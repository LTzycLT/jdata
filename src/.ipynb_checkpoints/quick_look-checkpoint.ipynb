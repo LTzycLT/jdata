{
 "cells": [
  {
   "cell_type": "code",
   "execution_count": 56,
   "metadata": {
    "collapsed": false
   },
   "outputs": [],
   "source": [
    "import pandas as pd\n",
    "import numpy as np\n",
    "#import xgboost"
   ]
  },
  {
   "cell_type": "code",
   "execution_count": 5,
   "metadata": {
    "collapsed": true
   },
   "outputs": [],
   "source": [
    "comment = pandas.read_csv('../data/csv/JData_Comment.csv')\n",
    "product = pandas.read_csv('../data/csv/JData_Product.csv')\n",
    "user = pandas.read_csv('../data/csv/JData_User.csv')"
   ]
  },
  {
   "cell_type": "code",
   "execution_count": 42,
   "metadata": {
    "collapsed": false
   },
   "outputs": [],
   "source": [
    "action02 = pandas.read_csv('../data/csv/JData_Action_201602.csv')\n",
    "action03 = pandas.read_csv('../data/csv/JData_Action_201603.csv')\n",
    "action03_extra = pandas.read_csv('../data/csv/JData_Action_201603_extra.csv')\n",
    "action04 = pandas.read_csv('../data/csv/JData_Action_201604.csv')"
   ]
  },
  {
   "cell_type": "code",
   "execution_count": 64,
   "metadata": {
    "collapsed": true
   },
   "outputs": [],
   "source": [
    "products = set()\n",
    "with open('../data/csv/JData_Product.csv') as f:\n",
    "    for line in f:\n",
    "        if i == 0: continue\n",
    "        items = line.strip().split(',')\n",
    "        products.add(items[0])"
   ]
  },
  {
   "cell_type": "code",
   "execution_count": 72,
   "metadata": {
    "collapsed": false
   },
   "outputs": [],
   "source": [
    "results = defaultdict(list)\n",
    "with open('../data/csv/JData_Action_201603.csv') as f:\n",
    "    for line in f:\n",
    "        items = line.strip().split(',')\n",
    "        if items[2] > '2016-03-05' or items[4] != '4' or items[1] not in products: continue\n",
    "        results[items[0]].append(items[1])"
   ]
  },
  {
   "cell_type": "code",
   "execution_count": 35,
   "metadata": {
    "collapsed": false
   },
   "outputs": [],
   "source": [
    "from collections import defaultdict\n",
    "res = defaultdict(lambda: [False, []])\n",
    "with open('../data/csv/JData_Action_201602.csv') as f:\n",
    "    for i, line in enumerate(f):\n",
    "        if i == 0: continue\n",
    "        items = line.strip().split(',')\n",
    "        if items[4] == '4': res[(items[0], items[1])][0] = True\n",
    "        res[(items[0], items[1])][1].append((items[2], items[3], items[4]))"
   ]
  },
  {
   "cell_type": "code",
   "execution_count": 36,
   "metadata": {
    "collapsed": true
   },
   "outputs": [],
   "source": [
    "import datetime\n",
    "def date_gap(a, b):\n",
    "    a = a[0: 10]\n",
    "    b = b[0: 10]\n",
    "    return (datetime.datetime.strptime(a, '%Y-%m-%d') - datetime.datetime.strptime(b, '%Y-%m-%d')).days"
   ]
  },
  {
   "cell_type": "code",
   "execution_count": 87,
   "metadata": {
    "collapsed": false
   },
   "outputs": [],
   "source": [
    "data = []\n",
    "testInfo = []\n",
    "testX = []\n",
    "y = []\n",
    "for i, (k, v) in enumerate(res.iteritems()):\n",
    "    o = defaultdict(int)\n",
    "    v[1].sort(key=lambda o: o[1])\n",
    "    \n",
    "    first_day = v[1][0][0]\n",
    "    last_day = ''\n",
    "    for vv in v[1]:\n",
    "        if vv[2] == '6': o['6_%s' % vv[1]] += 1\n",
    "        elif vv[2] == '4': last_day = vv[0]\n",
    "        else: o[vv[2]] += 1\n",
    "    \n",
    "    if last_day:\n",
    "        pos = o.copy()\n",
    "        y.append(1)\n",
    "        pos['date'] = date_gap(last_day, first_day)\n",
    "        data.append(pos)\n",
    "    \n",
    "    neg = o.copy()\n",
    "    y.append(0)\n",
    "    if last_day:\n",
    "        neg['date'] = date_gap(last_day, first_day) - 1\n",
    "    else:\n",
    "        neg['date'] = date_gap('2016-03-01', first_day) - 1\n",
    "    data.append(neg)\n",
    "    \n",
    "    if last_day == '' and k[1] in products:\n",
    "        t = o.copy()\n",
    "        t['date'] = date_gap('2016-03-05', first_day)\n",
    "        testX.append(t)\n",
    "        testInfo.append(k)"
   ]
  },
  {
   "cell_type": "code",
   "execution_count": 88,
   "metadata": {
    "collapsed": false
   },
   "outputs": [],
   "source": [
    "from sklearn.feature_extraction import DictVectorizer\n",
    "v = DictVectorizer().fit(data)\n",
    "X = v.transform(data)\n",
    "X_test = v.transform(test)"
   ]
  },
  {
   "cell_type": "code",
   "execution_count": 95,
   "metadata": {
    "collapsed": true
   },
   "outputs": [],
   "source": [
    "from sklearn.linear_model import LogisticRegression\n",
    "\n",
    "model = LogisticRegression().fit(X, y)\n",
    "y_prob = model.predict_proba(X)[:, 1]\n",
    "y_test_pred = model.predict(X_test)"
   ]
  },
  {
   "cell_type": "code",
   "execution_count": 96,
   "metadata": {
    "collapsed": false
   },
   "outputs": [
    {
     "data": {
      "text/plain": [
       "array([1664784])"
      ]
     },
     "execution_count": 96,
     "metadata": {},
     "output_type": "execute_result"
    }
   ],
   "source": []
  },
  {
   "cell_type": "code",
   "execution_count": 97,
   "metadata": {
    "collapsed": false
   },
   "outputs": [
    {
     "data": {
      "text/plain": [
       "0.95895283742955861"
      ]
     },
     "execution_count": 97,
     "metadata": {},
     "output_type": "execute_result"
    }
   ],
   "source": [
    "from sklearn.metrics import roc_auc_score\n",
    "\n",
    "roc_auc_score(y, y_prob)"
   ]
  },
  {
   "cell_type": "code",
   "execution_count": 38,
   "metadata": {
    "collapsed": false
   },
   "outputs": [
    {
     "data": {
      "text/plain": [
       "(46546,)"
      ]
     },
     "execution_count": 38,
     "metadata": {},
     "output_type": "execute_result"
    }
   ],
   "source": [
    "comment['sku_id'].unique().shape"
   ]
  },
  {
   "cell_type": "code",
   "execution_count": 39,
   "metadata": {
    "collapsed": false
   },
   "outputs": [
    {
     "data": {
      "text/plain": [
       "(558552,)"
      ]
     },
     "execution_count": 39,
     "metadata": {},
     "output_type": "execute_result"
    }
   ],
   "source": [
    "comment['sku_id'].shape"
   ]
  },
  {
   "cell_type": "code",
   "execution_count": 41,
   "metadata": {
    "collapsed": false
   },
   "outputs": [
    {
     "data": {
      "text/plain": [
       "(82,)"
      ]
     },
     "execution_count": 41,
     "metadata": {},
     "output_type": "execute_result"
    }
   ],
   "source": [
    "action02.model_id.unique().shape"
   ]
  },
  {
   "cell_type": "code",
   "execution_count": 35,
   "metadata": {
    "collapsed": false
   },
   "outputs": [],
   "source": [
    "a = action02['user_id'].unique()"
   ]
  },
  {
   "cell_type": "code",
   "execution_count": 36,
   "metadata": {
    "collapsed": false
   },
   "outputs": [
    {
     "data": {
      "text/plain": [
       "(79380,)"
      ]
     },
     "execution_count": 36,
     "metadata": {},
     "output_type": "execute_result"
    }
   ],
   "source": [
    "a.shape"
   ]
  },
  {
   "cell_type": "code",
   "execution_count": null,
   "metadata": {
    "collapsed": true
   },
   "outputs": [],
   "source": []
  }
 ],
 "metadata": {
  "anaconda-cloud": {},
  "kernelspec": {
   "display_name": "Python [conda root]",
   "language": "python",
   "name": "conda-root-py"
  },
  "language_info": {
   "codemirror_mode": {
    "name": "ipython",
    "version": 2
   },
   "file_extension": ".py",
   "mimetype": "text/x-python",
   "name": "python",
   "nbconvert_exporter": "python",
   "pygments_lexer": "ipython2",
   "version": "2.7.12"
  }
 },
 "nbformat": 4,
 "nbformat_minor": 1
}
